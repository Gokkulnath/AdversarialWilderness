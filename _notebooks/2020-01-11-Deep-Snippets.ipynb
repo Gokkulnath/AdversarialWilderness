{
 "cells": [
  {
   "cell_type": "markdown",
   "metadata": {},
   "source": [
    "# \"Deep Snippets Jupyter\"\n",
    "> \"Short Writeups explain concepts of deep learning\"\n",
    "- toc: false\n",
    "- branch: master\n",
    "- badges: true\n",
    "- comments: true\n",
    "- categories: [\"Deep Learning\"]\n",
    "- image: images/DeepSnippets/DeepSnippets.png\n",
    "- hide: false\n",
    "- search_exclude: true\n",
    "- metadata_key1: \"Deep Learning\"\n",
    "<!-- - metadata_key2: metadata_value2 -->\n"
   ]
  },
  {
   "cell_type": "markdown",
   "metadata": {},
   "source": [
    "# Deep Snippets\n",
    "\n",
    "![]({{ site.baseurl }}/images/DeepSnippets/DeepSnippets.jpg \"Deep Snippets\")"
   ]
  },
  {
   "cell_type": "markdown",
   "metadata": {},
   "source": [
    "## 1. Deeper Densenets are by virtue of their design, act as (pseudo) wider networks. \n",
    "Explanation :   \n",
    "  \n",
    "\n"
   ]
  },
  {
   "cell_type": "markdown",
   "metadata": {},
   "source": [
    "\n",
    "## 2. BatchSize vs Learning Rate:\n",
    "![]({{ site.baseurl }}/images/DeepSnippets/batchszvslr.png \"Batch Size vs Learning Rate\")\n",
    "\n"
   ]
  },
  {
   "cell_type": "markdown",
   "metadata": {},
   "source": [
    "## 3. Weight Decay vs Learning Rate:\n",
    "Overfit -> Reduce Overfitting -> There is no step 3. Remember overfitting doesn’t mean having a lower training loss than validation loss, that is normal. It means you have seen your validation error getting worse, until you see that happening you’re not overfitting. 3 Steps to Training a Really Good Model 18\n",
    "\n",
    "\n"
   ]
  },
  {
   "cell_type": "markdown",
   "metadata": {},
   "source": [
    "# Misc:\n",
    "- Always make sure your validation and training set were normalized in the same way.\n",
    "- Random Seed is not always required.I dont set a random seed, this is very intentional because I want to see variation in my model, I don’t want it to be hidden away behind a fixed seed. Lesson 9: When not to use a seed \n",
    "- You can and should schedule everything, your dropout amount, what kind of data augmentation you do, weight decay, learning rate, momentum, everything. It’s very unlikely you would want the same hyperparameters throughout. Lesson 9: Hyperparameter Scheduling\n",
    "\n"
   ]
  },
  {
   "cell_type": "markdown",
   "metadata": {},
   "source": [
    "## TODO\n",
    "- Things Jeremy says to do - Part 1 (2019) - Deep Learning Course Forums\n",
    "- Things Jeremy says to do (Part 2) - Part 2 (2019) - Deep Learning Course Forums\n",
    "- Effect of Batch Size on the Updates received by the model"
   ]
  }
 ],
 "metadata": {
  "kernelspec": {
   "display_name": "Python 3",
   "language": "python",
   "name": "python3"
  },
  "language_info": {
   "codemirror_mode": {
    "name": "ipython",
    "version": 3
   },
   "file_extension": ".py",
   "mimetype": "text/x-python",
   "name": "python",
   "nbconvert_exporter": "python",
   "pygments_lexer": "ipython3",
   "version": "3.7.3"
  }
 },
 "nbformat": 4,
 "nbformat_minor": 4
}
