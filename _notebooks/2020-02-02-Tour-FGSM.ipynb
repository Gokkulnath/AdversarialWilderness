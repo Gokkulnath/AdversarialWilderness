{
 "cells": [
  {
   "cell_type": "markdown",
   "metadata": {},
   "source": [
    "# \"Deep Snippets Jupyter\"\n",
    "> \"Short Writeups explain concepts of deep learning\"\n",
    "- toc: false\n",
    "- branch: master\n",
    "- badges: true\n",
    "- comments: true\n",
    "- categories: [\"Deep Learning\"]\n",
    "- image: images/DeepSnippets/DeepSnippets.png\n",
    "- hide: false\n",
    "- search_exclude: true\n",
    "- metadata_key1: \"Deep Learning\"\n",
    "<!-- - metadata_key2: metadata_value2 -->\n"
   ]
  }
 ],
 "metadata": {
  "kernelspec": {
   "display_name": "Python (infi)",
   "language": "python",
   "name": "infi"
  },
  "language_info": {
   "codemirror_mode": {
    "name": "ipython",
    "version": 3
   },
   "file_extension": ".py",
   "mimetype": "text/x-python",
   "name": "python",
   "nbconvert_exporter": "python",
   "pygments_lexer": "ipython3",
   "version": "3.6.8"
  }
 },
 "nbformat": 4,
 "nbformat_minor": 4
}
